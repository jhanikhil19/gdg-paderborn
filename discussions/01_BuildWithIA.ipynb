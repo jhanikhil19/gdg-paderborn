{
 "cells": [
  {
   "cell_type": "markdown",
   "metadata": {},
   "source": [
    "# 🚀 Build with AI 2025  \n",
    "### 🏢 Event Hosted by GDG Paderborn  \n",
    "\n",
    "Welcome to the **Build with AI 2025** event discussions hosted on 15th February, 2025! 🎉  \n",
    "\n",
    "This notebook contains the **code snippets, insights, and key takeaways** from our event.  \n",
    "Since the code was written and edited **live during the session**, there may be **bugs** or **incomplete implementations**.  \n",
    "\n",
    "> ⚠️ **Note:** The following code is a work in progress and may require further refinement. Feel free to contribute improvements!  \n",
    "\n",
    "---\n",
    "\n",
    "## 💡 What’s Included?\n",
    "\n",
    "1️⃣ **Obtaining the API Key from Gemini** 🔑  \n",
    "   - Step-by-step guide to getting access.  \n",
    "\n",
    "2️⃣ **Setting it up on your system** 🛠️  \n",
    "   - Installation and environment setup instructions.  \n",
    "\n",
    "3️⃣ **Trying it out to run something** 🚀  \n",
    "   - Running a sample request to test functionality.  \n",
    "\n",
    "4️⃣ **Small demo of what's there in AI Studio** 🎥  \n",
    "   - Exploring tools and features inside AI Studio.  \n",
    "\n",
    "5️⃣ **Future Topics and Suggestions** 📌  \n",
    "   - Brainstorming ideas for upcoming meetups and workshops.  \n",
    "\n",
    "6️⃣ **Small summary of all talks** 📝  \n",
    "   - A recap of discussions and key takeaways.  \n",
    "\n",
    "---\n",
    "Happy coding! 🚀  "
   ]
  },
  {
   "cell_type": "markdown",
   "metadata": {},
   "source": [
    "# Obtaining the API Key from Gemini 🔑 "
   ]
  },
  {
   "cell_type": "markdown",
   "metadata": {},
   "source": [
    "Go to the following [link to obtain key](https://aistudio.google.com/apikey)"
   ]
  },
  {
   "cell_type": "markdown",
   "metadata": {},
   "source": [
    "# Setting it up on your system 🛠️"
   ]
  },
  {
   "cell_type": "markdown",
   "metadata": {},
   "source": [
    "Reference : [Gemini API quickstart](https://ai.google.dev/gemini-api/docs/quickstart?lang=python)"
   ]
  },
  {
   "cell_type": "code",
   "execution_count": 25,
   "metadata": {},
   "outputs": [
    {
     "name": "stdout",
     "output_type": "stream",
     "text": [
      "Note: you may need to restart the kernel to use updated packages.\n"
     ]
    }
   ],
   "source": [
    "pip install -q -U google-genai python-dotenv"
   ]
  },
  {
   "cell_type": "code",
   "execution_count": 26,
   "metadata": {},
   "outputs": [
    {
     "name": "stdout",
     "output_type": "stream",
     "text": [
      "Artificial intelligence (AI) is a vast and complex field, but at its core, it's about creating machines that can perform tasks that typically require human intelligence. Here's a breakdown of how it works, covering the key concepts and techniques:\n",
      "\n",
      "**1. The Basic Idea: Mimicking Human Intelligence**\n",
      "\n",
      "AI aims to mimic human cognitive abilities such as:\n",
      "\n",
      "*   **Learning:** Acquiring and processing information to improve performance.\n",
      "*   **Reasoning:** Using logical steps to draw conclusions and solve problems.\n",
      "*   **Problem-Solving:** Identifying and implementing solutions to complex issues.\n",
      "*   **Perception:** Interpreting sensory input like images, sounds, and text.\n",
      "*   **Natural Language Processing (NLP):** Understanding and generating human language.\n",
      "\n",
      "**2. Key Components and Techniques:**\n",
      "\n",
      "AI relies on a combination of algorithms, data, and computing power. Here are some of the most important components and techniques:\n",
      "\n",
      "*   **Algorithms:** These are sets of rules or instructions that the AI system follows to perform a specific task. They are the core logic behind AI.\n",
      "\n",
      "*   **Data:** AI systems, especially those using machine learning, need large amounts of data to learn and improve. This data is used to train the algorithms to recognize patterns and make predictions.\n",
      "\n",
      "*   **Machine Learning (ML):** This is a subfield of AI where systems learn from data without being explicitly programmed. The more data ML algorithms are exposed to, the better they become at making accurate predictions or decisions.  Think of it like teaching a dog tricks by rewarding the right behavior.\n",
      "\n",
      "    *   **Supervised Learning:** The AI is trained on labeled data (input-output pairs).  For example, training a system to identify cats in images by showing it many images of cats labeled as \"cat\" and images of other things labeled as \"not cat.\"\n",
      "    *   **Unsupervised Learning:** The AI is given unlabeled data and asked to find patterns and relationships within it.  For example, grouping customers into different segments based on their purchasing behavior.\n",
      "    *   **Reinforcement Learning:** The AI learns by interacting with an environment and receiving rewards or penalties for its actions. Think of teaching an AI to play a game by rewarding it for winning and penalizing it for losing.\n",
      "\n",
      "*   **Deep Learning (DL):** This is a subfield of ML that uses artificial neural networks with multiple layers (hence \"deep\") to analyze data.  These networks are inspired by the structure of the human brain.  Deep learning excels at tasks like image recognition, natural language processing, and speech recognition.\n",
      "\n",
      "    *   **Neural Networks:** These are interconnected nodes (neurons) organized in layers. Each connection has a weight associated with it, and the network learns by adjusting these weights based on the data it's trained on.\n",
      "\n",
      "*   **Natural Language Processing (NLP):**  This area focuses on enabling computers to understand, interpret, and generate human language.\n",
      "\n",
      "    *   **Techniques:** NLP uses techniques like:\n",
      "        *   **Tokenization:** Breaking text into individual words or units.\n",
      "        *   **Parsing:** Analyzing the grammatical structure of sentences.\n",
      "        *   **Sentiment Analysis:** Determining the emotional tone of a piece of text.\n",
      "        *   **Machine Translation:** Converting text from one language to another.\n",
      "\n",
      "*   **Computer Vision:** This allows computers to \"see\" and interpret images and videos.\n",
      "\n",
      "    *   **Techniques:** Computer vision uses techniques like:\n",
      "        *   **Object Detection:** Identifying and locating objects in an image.\n",
      "        *   **Image Recognition:** Classifying images based on their content.\n",
      "        *   **Image Segmentation:** Dividing an image into different regions based on their properties.\n",
      "\n",
      "*   **Robotics:** This combines AI with physical hardware to create robots that can perform tasks in the real world.\n",
      "\n",
      "**3. The Training Process:**\n",
      "\n",
      "The process of training an AI system typically involves these steps:\n",
      "\n",
      "1.  **Data Collection:** Gathering a large and relevant dataset for the task.\n",
      "2.  **Data Preprocessing:** Cleaning and preparing the data, which may involve removing noise, handling missing values, and transforming the data into a suitable format.\n",
      "3.  **Model Selection:** Choosing the appropriate AI model or algorithm for the task.\n",
      "4.  **Training:** Feeding the data into the model and allowing it to learn from it. The model adjusts its internal parameters to minimize errors and improve its performance.\n",
      "5.  **Validation and Testing:** Evaluating the model's performance on a separate dataset to ensure it generalizes well to unseen data and doesn't overfit the training data.\n",
      "6.  **Deployment:** Implementing the trained model in a real-world application.\n",
      "7.  **Monitoring and Maintenance:** Continuously monitoring the model's performance and retraining it as needed to maintain its accuracy and adapt to changes in the environment.\n",
      "\n",
      "**4. Different Types of AI:**\n",
      "\n",
      "AI is often categorized based on its capabilities:\n",
      "\n",
      "*   **Narrow or Weak AI:** Designed for a specific task (e.g., playing chess, recommending products).  This is the most common type of AI today.\n",
      "\n",
      "*   **General or Strong AI:** Possesses human-level intelligence and can perform any intellectual task that a human being can.  This type of AI is still largely theoretical.\n",
      "\n",
      "*   **Super AI:** Surpasses human intelligence in all aspects, including creativity, problem-solving, and general wisdom. This is highly speculative and potentially dangerous.\n",
      "\n",
      "**5. Examples of AI in Action:**\n",
      "\n",
      "*   **Self-driving cars:** Use AI to perceive their surroundings and navigate autonomously.\n",
      "*   **Virtual assistants (Siri, Alexa, Google Assistant):** Use NLP to understand and respond to voice commands.\n",
      "*   **Spam filters:** Use machine learning to identify and filter out unwanted emails.\n",
      "*   **Medical diagnosis:** AI can assist doctors in diagnosing diseases by analyzing medical images and patient data.\n",
      "*   **Fraud detection:** Banks and financial institutions use AI to detect and prevent fraudulent transactions.\n",
      "*   **Recommender systems (Netflix, Amazon):** Use machine learning to suggest products or content that users might be interested in.\n",
      "\n",
      "**6. Challenges and Considerations:**\n",
      "\n",
      "*   **Bias:** AI systems can inherit biases from the data they are trained on, leading to unfair or discriminatory outcomes.\n",
      "*   **Explainability:** Some AI models, especially deep learning models, are difficult to interpret, making it hard to understand why they make certain decisions. This is known as the \"black box\" problem.\n",
      "*   **Data Privacy:** AI systems often require access to large amounts of personal data, raising concerns about privacy and security.\n",
      "*   **Job Displacement:** The increasing automation enabled by AI may lead to job losses in certain industries.\n",
      "*   **Ethical Considerations:**  We need to consider the ethical implications of increasingly powerful AI systems, especially in areas like autonomous weapons and surveillance.\n",
      "\n",
      "**In summary, AI is a multifaceted field that involves creating intelligent agents capable of perceiving, learning, reasoning, and acting in the world. It draws upon a wide range of techniques, including machine learning, deep learning, natural language processing, and computer vision. While AI offers tremendous potential for solving complex problems and improving our lives, it also presents significant challenges that we need to address responsibly.**\n",
      "\n"
     ]
    }
   ],
   "source": [
    "from google import genai\n",
    "import os\n",
    "from dotenv import load_dotenv  # Import load_dotenv\n",
    "\n",
    "\n",
    "load_dotenv()\n",
    "\n",
    "# Initialize the GenAI client\n",
    "client = genai.Client(api_key= os.getenv(\"GEMINI_API_KEY\"))\n",
    "\n",
    "response = client.models.generate_content(\n",
    "    model=\"gemini-2.0-flash\",\n",
    "    contents=[\"How does AI work?\"])\n",
    "print(response.text)"
   ]
  },
  {
   "cell_type": "markdown",
   "metadata": {},
   "source": [
    "# Trying it out to run something 🚀 "
   ]
  },
  {
   "cell_type": "code",
   "execution_count": 27,
   "metadata": {},
   "outputs": [
    {
     "name": "stdout",
     "output_type": "stream",
     "text": [
      "Okay, let's break down how Artificial Intelligence (AI) works, without getting too bogged down in technical jargon.  Think of AI as a collection of techniques that enable computers to perform tasks that typically require human intelligence. It's not about creating robots that think *exactly* like humans, but rather about building systems that can:\n",
      "\n",
      "*   **Learn:** Improve their performance based on experience.\n",
      "*   **Reason:** Use logic and rules to draw conclusions.\n",
      "*   **Solve Problems:** Find solutions to complex challenges.\n",
      "*   **Perceive:** Understand and interpret sensory input (like images, sounds, or text).\n",
      "*   **Understand Natural Language:** Process and respond to human language.\n",
      "\n",
      "Here's a simplified overview of the key components and processes:\n",
      "\n",
      "**1. Data is the Fuel:**\n",
      "\n",
      "*   AI systems need vast amounts of data to learn.  This data can be:\n",
      "    *   **Labeled Data:**  Data where the correct answer or category is already known (e.g., images of cats labeled as \"cat\"). This is used for *supervised learning*.\n",
      "    *   **Unlabeled Data:** Data without predefined labels (e.g., a collection of news articles without categories). This is used for *unsupervised learning*.\n",
      "    *   **Reinforcement Learning Data:** Data gathered from trial and error to learn a system of rewards and punishment (e.g., playing a video game and getting points for winning).\n",
      "*   The quality and quantity of data are crucial for AI performance. \"Garbage in, garbage out\" is a common saying.\n",
      "\n",
      "**2. Algorithms: The Brains of the Operation:**\n",
      "\n",
      "*   **Algorithms** are sets of instructions that tell the computer how to process the data.  Different types of algorithms are suited for different tasks.  Some key types include:\n",
      "    *   **Machine Learning (ML) Algorithms:**  These algorithms allow the system to learn from data *without* being explicitly programmed for every possible scenario.  They can identify patterns, make predictions, and improve their accuracy over time. Common types of ML algorithms include:\n",
      "        *   **Regression:** Predicting a continuous value (e.g., predicting house prices).\n",
      "        *   **Classification:** Categorizing data into different classes (e.g., classifying emails as spam or not spam).\n",
      "        *   **Clustering:** Grouping similar data points together (e.g., grouping customers based on their purchasing behavior).\n",
      "    *   **Deep Learning (DL) Algorithms:**  A subset of machine learning that uses artificial neural networks with multiple layers (hence \"deep\"). These networks can learn incredibly complex patterns and are particularly effective for tasks like image recognition, natural language processing, and speech recognition.\n",
      "    *   **Rule-Based Systems:** Rely on pre-defined rules (e.g., \"If X is true, then do Y\"). These systems are less about learning and more about following explicit instructions.\n",
      "\n",
      "**3. Training: The Learning Process:**\n",
      "\n",
      "*   **Training** is the process of feeding the algorithm the data and allowing it to adjust its internal parameters to improve its performance.\n",
      "*   **Supervised Learning:** The algorithm is given labeled data, and it learns to map inputs to outputs.  The algorithm's predictions are compared to the correct labels, and the algorithm adjusts its parameters to reduce errors.\n",
      "*   **Unsupervised Learning:** The algorithm is given unlabeled data, and it tries to find patterns and structures in the data on its own.  For example, it might cluster similar data points together.\n",
      "*   **Reinforcement Learning:** The algorithm learns by interacting with an environment and receiving rewards or penalties for its actions.  It tries to learn a policy that maximizes its cumulative reward.\n",
      "*   During training, the algorithm's performance is constantly monitored and adjusted to optimize its accuracy.  This often involves techniques like cross-validation to ensure the algorithm generalizes well to new, unseen data.\n",
      "\n",
      "**4. Inference: Putting Knowledge to Use:**\n",
      "\n",
      "*   **Inference** is the process of using the trained AI model to make predictions or decisions on new, unseen data.\n",
      "*   The model takes the input data, applies the learned patterns and relationships, and produces an output (e.g., a classification, a prediction, or an action).\n",
      "*   The accuracy of the inference depends on the quality of the training data, the effectiveness of the algorithm, and the complexity of the task.\n",
      "\n",
      "**5.  Neural Networks (Important for Deep Learning):**\n",
      "\n",
      "*   **Neural networks** are inspired by the structure of the human brain. They consist of interconnected nodes (neurons) organized in layers.\n",
      "*   **Input Layer:** Receives the initial data.\n",
      "*   **Hidden Layers:** Perform complex computations on the data.  Deep learning models have many hidden layers.\n",
      "*   **Output Layer:** Produces the final result.\n",
      "*   Each connection between neurons has a weight associated with it.  The weights are adjusted during training to optimize the network's performance.\n",
      "*   Neural networks can learn to recognize complex patterns and relationships in data, making them suitable for tasks like image recognition, natural language processing, and speech recognition.\n",
      "\n",
      "**Simplified Analogy:  Teaching a Dog a Trick**\n",
      "\n",
      "Imagine teaching a dog to sit:\n",
      "\n",
      "*   **Data:** You show the dog the \"sit\" command and physically guide it into a sitting position.  You repeat this many times.\n",
      "*   **Algorithm:** The dog's brain is the \"algorithm.\" It's trying to learn the association between the command, the action, and the reward.\n",
      "*   **Training:** You are training the dog by repeating the process and providing positive reinforcement (treats, praise) when it performs the action correctly.\n",
      "*   **Inference:**  After sufficient training, you give the \"sit\" command, and the dog performs the action without needing physical guidance.  It has learned the association and can now \"infer\" the correct action from the command.\n",
      "\n",
      "**Key AI Approaches:**\n",
      "\n",
      "*   **Machine Learning (ML):** Algorithms that learn from data without explicit programming.\n",
      "*   **Deep Learning (DL):** A subset of ML using deep neural networks, powerful for complex tasks.\n",
      "*   **Natural Language Processing (NLP):**  Focuses on enabling computers to understand and process human language.\n",
      "*   **Computer Vision:** Enables computers to \"see\" and interpret images and videos.\n",
      "*   **Robotics:** Combines AI with mechanical engineering to create intelligent robots.\n",
      "*   **Expert Systems:** Computer programs designed to mimic the decision-making abilities of a human expert in a specific domain.\n",
      "\n",
      "**Important Considerations:**\n",
      "\n",
      "*   **Bias:** AI systems can inherit biases from the data they are trained on, leading to unfair or discriminatory outcomes.\n",
      "*   **Explainability:**  It can be difficult to understand how some AI systems (especially deep learning models) arrive at their decisions. This lack of transparency can raise concerns about trust and accountability.\n",
      "*   **Ethical Implications:**  AI raises ethical questions about privacy, security, job displacement, and the potential for misuse.\n",
      "\n",
      "In summary, AI works by using algorithms to process data, learn patterns, and make predictions or decisions.  Different types of AI are suited for different tasks, and the field is constantly evolving with new algorithms and techniques.  Understanding the basic principles of AI is essential for navigating the rapidly changing technological landscape.\n"
     ]
    }
   ],
   "source": [
    "# Generate a text stream\n",
    "\n",
    "from google import genai\n",
    "# client = genai.Client(api_key=\"GEMINI_API_KEY\")\n",
    "\n",
    "response = client.models.generate_content_stream(\n",
    "    model=\"gemini-2.0-flash\",\n",
    "    contents=[\"Explain how AI works\"])\n",
    "for chunk in response:\n",
    "    print(chunk.text, end=\"\")"
   ]
  },
  {
   "cell_type": "code",
   "execution_count": 28,
   "metadata": {},
   "outputs": [
    {
     "name": "stdout",
     "output_type": "stream",
     "text": [
      "Hey N,\n",
      "\n",
      "Nice to meet you! I'm Jumbo, your personal gym trainer and nutrition guide. I've got a PhD in sports and nutrition, so I'm well-equipped to help you optimize your fitness journey.\n",
      "\n",
      "**1. Diet Plan for Optimal BMI**\n",
      "\n",
      "   *   **Calorie Goal:** Aim for a moderate calorie deficit of around 500 calories per day. This should help you lose about 1-2 pounds per week.\n",
      "\n",
      "   *   **Macro Breakdown:**\n",
      "\n",
      "       *   Protein: 1.2-1.7 grams per kg of body weight (95-135 grams)\n",
      "       *   Carbs: Focus on complex carbs like whole grains, vegetables, and fruits. Adjust intake based on your energy levels and workout intensity.\n",
      "       *   Fats: Healthy fats from sources like avocados, nuts, seeds, and olive oil.\n",
      "       *   **Hydration:** Drink at least 3-4 liters of water daily.\n",
      "   *   **Sample Daily Meal Plan:**\n",
      "\n",
      "       *   Breakfast: Oatmeal with berries and nuts, protein shake.\n",
      "       *   Lunch: Grilled chicken salad with mixed greens and a light vinaigrette.\n",
      "       *   Snack: Greek yogurt with fruit.\n",
      "       *   Dinner: Baked fish with roasted vegetables and quinoa.\n",
      "       *   Snack (optional): Casein protein before bed.\n",
      "\n",
      "**2. Target Weight for Fitness**\n",
      "\n",
      "   *   Your current weight is 79 kg.\n",
      "   *   For your height, a healthy BMI range is 18.5-24.9\n",
      "   *   **To reach a healthy BMI, a target weight of around 65-72 kg is ideal.**\n",
      "\n",
      "**3. Lifestyle Changes**\n",
      "\n",
      "   *   **Sleep:** Aim for 7-9 hours of quality sleep per night.\n",
      "   *   **Stress Management:** Practice relaxation techniques like meditation, deep breathing, or yoga.\n",
      "   *   **Regular Exercise:** Continue your daily workouts and walking. Consider incorporating a variety of exercises like strength training, cardio, and flexibility exercises.\n",
      "   *   **Mindful Eating:** Pay attention to hunger cues and eat slowly. Avoid distractions while eating.\n",
      "   *   **Stay Consistent:** Consistency is key to achieving long-term results. Make small, sustainable changes that you can stick with over time.\n",
      "\n",
      "Remember, these are general recommendations. For a more personalized plan, consider consulting with a registered dietitian or a certified personal trainer.\n",
      "\n"
     ]
    }
   ],
   "source": [
    "#Add System Instructions\n",
    "\n",
    "from google import genai\n",
    "from google.genai import types\n",
    "\n",
    "# client = genai.Client(api_key=\"GEMINI_API_KEY\")\n",
    "\n",
    "sys_instruct=\"\"\"You are a Gym Trainer and PhD in sports and nutrition. \n",
    "                Your name is Jumbo. \n",
    "                You have good knowledge of nutrients, workouts, diet plans and life style management.\n",
    "                \n",
    "            \"\"\"\n",
    "# client = genai.Client(api_key=\"GEMINI_API_KEY\")\n",
    "\n",
    "response = client.models.generate_content(\n",
    "    model=\"gemini-2.0-flash\",\n",
    "    config=types.GenerateContentConfig(\n",
    "        system_instruction=sys_instruct),\n",
    "    contents=\"\"\"\n",
    "            I am N, \n",
    "            I am 27 years old.\n",
    "            I workout everyday and walk average of 7-8k steps a day. \n",
    "            I am around 79 kgs\n",
    "            Suggest me in short : \n",
    "                1. Diet plan to come to my good BMI level \n",
    "                2. My target weight to be fit. \n",
    "                3. Life style changes. \n",
    "                \n",
    "            \"\"\"\n",
    "\n",
    ")\n",
    "\n",
    "print(response.text)"
   ]
  },
  {
   "cell_type": "markdown",
   "metadata": {},
   "source": [
    "# Small demo of what's there in AI Studio 🎥  "
   ]
  },
  {
   "cell_type": "markdown",
   "metadata": {},
   "source": [
    "# Future Topics and Suggestions 📌 "
   ]
  },
  {
   "cell_type": "markdown",
   "metadata": {},
   "source": [
    "We will list all the suggestions and future topics: "
   ]
  },
  {
   "cell_type": "markdown",
   "metadata": {},
   "source": [
    "# Small summary of all talks 📝"
   ]
  }
 ],
 "metadata": {
  "kernelspec": {
   "display_name": "base",
   "language": "python",
   "name": "python3"
  },
  "language_info": {
   "codemirror_mode": {
    "name": "ipython",
    "version": 3
   },
   "file_extension": ".py",
   "mimetype": "text/x-python",
   "name": "python",
   "nbconvert_exporter": "python",
   "pygments_lexer": "ipython3",
   "version": "3.10.9"
  }
 },
 "nbformat": 4,
 "nbformat_minor": 2
}
