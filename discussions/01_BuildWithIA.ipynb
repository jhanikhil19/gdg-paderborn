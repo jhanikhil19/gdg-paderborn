{
 "cells": [
  {
   "cell_type": "markdown",
   "metadata": {},
   "source": [
    "# 🚀 Build with AI 2025  \n",
    "### 🏢 Event Hosted by GDG Paderborn  \n",
    "\n",
    "Welcome to the **Build with AI 2025** event discussions hosted on 15th February, 2025! 🎉  \n",
    "\n",
    "This notebook contains the **code snippets, insights, and key takeaways** from our event.  \n",
    "Since the code was written and edited **live during the session**, there may be **bugs** or **incomplete implementations**.  \n",
    "\n",
    "> ⚠️ **Note:** The following code is a work in progress and may require further refinement. Feel free to contribute improvements!  \n",
    "\n",
    "---\n",
    "\n",
    "## 💡 What’s Included?\n",
    "\n",
    "1️⃣ **Obtaining the API Key from Gemini** 🔑  \n",
    "   - Step-by-step guide to getting access.  \n",
    "\n",
    "2️⃣ **Setting it up on your system** 🛠️  \n",
    "   - Installation and environment setup instructions.  \n",
    "\n",
    "3️⃣ **Trying it out to run something** 🚀  \n",
    "   - Running a sample request to test functionality.  \n",
    "\n",
    "4️⃣ **Small demo of what's there in AI Studio** 🎥  \n",
    "   - Exploring tools and features inside AI Studio.  \n",
    "\n",
    "5️⃣ **Future Topics and Suggestions** 📌  \n",
    "   - Brainstorming ideas for upcoming meetups and workshops.  \n",
    "\n",
    "6️⃣ **Small summary of all talks** 📝  \n",
    "   - A recap of discussions and key takeaways.  \n",
    "\n",
    "---\n",
    "Happy coding! 🚀  "
   ]
  },
  {
   "cell_type": "markdown",
   "metadata": {},
   "source": [
    "# Obtaining the API Key from Gemini 🔑 "
   ]
  },
  {
   "cell_type": "markdown",
   "metadata": {},
   "source": [
    "Go to the following [link to obtain key](https://aistudio.google.com/apikey)"
   ]
  },
  {
   "cell_type": "markdown",
   "metadata": {},
   "source": [
    "# Setting it up on your system 🛠️"
   ]
  },
  {
   "cell_type": "markdown",
   "metadata": {},
   "source": [
    "Reference : [Gemini API quickstart](https://ai.google.dev/gemini-api/docs/quickstart?lang=python)"
   ]
  },
  {
   "cell_type": "code",
   "execution_count": null,
   "metadata": {},
   "outputs": [],
   "source": [
    "pip install -q -U google-genai python-dotenv"
   ]
  },
  {
   "cell_type": "code",
   "execution_count": null,
   "metadata": {},
   "outputs": [],
   "source": [
    "from google import genai\n",
    "import os\n",
    "from dotenv import load_dotenv  # Import load_dotenv\n",
    "\n",
    "\n",
    "load_dotenv()\n",
    "\n",
    "# Initialize the GenAI client\n",
    "client = genai.Client(api_key= os.getenv(\"GEMINI_API_KEY\"))\n",
    "\n",
    "response = client.models.generate_content(\n",
    "    model=\"gemini-2.0-flash\",\n",
    "    contents=[\"How does AI work?\"])\n",
    "print(response.text)"
   ]
  },
  {
   "cell_type": "markdown",
   "metadata": {},
   "source": [
    "# Trying it out to run something 🚀 "
   ]
  },
  {
   "cell_type": "code",
   "execution_count": null,
   "metadata": {},
   "outputs": [],
   "source": [
    "# Generate a text stream\n",
    "\n",
    "from google import genai\n",
    "# client = genai.Client(api_key=\"GEMINI_API_KEY\")\n",
    "\n",
    "response = client.models.generate_content_stream(\n",
    "    model=\"gemini-2.0-flash\",\n",
    "    contents=[\"Explain how AI works\"])\n",
    "for chunk in response:\n",
    "    print(chunk.text, end=\"\")"
   ]
  },
  {
   "cell_type": "code",
   "execution_count": null,
   "metadata": {},
   "outputs": [],
   "source": [
    "#Add System Instructions\n",
    "\n",
    "from google import genai\n",
    "from google.genai import types\n",
    "\n",
    "# client = genai.Client(api_key=\"GEMINI_API_KEY\")\n",
    "\n",
    "sys_instruct=\"\"\"You are a Gym Trainer and PhD in sports and nutrition. \n",
    "                Your name is Jumbo. \n",
    "                You have good knowledge of nutrients, workouts, diet plans and life style management.\n",
    "                \n",
    "            \"\"\"\n",
    "# client = genai.Client(api_key=\"GEMINI_API_KEY\")\n",
    "\n",
    "response = client.models.generate_content(\n",
    "    model=\"gemini-2.0-flash\",\n",
    "    config=types.GenerateContentConfig(\n",
    "        system_instruction=sys_instruct),\n",
    "    contents=\"\"\"\n",
    "            I am N, \n",
    "            I am 27 years old.\n",
    "            I workout everyday and walk average of 7-8k steps a day. \n",
    "            I am around 79 kgs\n",
    "            Suggest me in short : \n",
    "                1. Diet plan to come to my good BMI level \n",
    "                2. My target weight to be fit. \n",
    "                3. Life style changes. \n",
    "                \n",
    "            \"\"\"\n",
    "\n",
    ")\n",
    "\n",
    "print(response.text)"
   ]
  },
  {
   "cell_type": "markdown",
   "metadata": {},
   "source": [
    "# Small demo of what's there in AI Studio 🎥  "
   ]
  },
  {
   "cell_type": "markdown",
   "metadata": {},
   "source": [
    "# Future Topics and Suggestions 📌 "
   ]
  },
  {
   "cell_type": "markdown",
   "metadata": {},
   "source": [
    "We will list all the suggestions and future topics: "
   ]
  },
  {
   "cell_type": "markdown",
   "metadata": {},
   "source": [
    "# Small summary of all talks 📝"
   ]
  }
 ],
 "metadata": {
  "kernelspec": {
   "display_name": "base",
   "language": "python",
   "name": "python3"
  },
  "language_info": {
   "codemirror_mode": {
    "name": "ipython",
    "version": 3
   },
   "file_extension": ".py",
   "mimetype": "text/x-python",
   "name": "python",
   "nbconvert_exporter": "python",
   "pygments_lexer": "ipython3",
   "version": "3.10.9"
  }
 },
 "nbformat": 4,
 "nbformat_minor": 2
}
